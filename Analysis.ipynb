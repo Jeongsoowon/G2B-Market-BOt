{
 "metadata": {
  "language_info": {
   "codemirror_mode": {
    "name": "ipython",
    "version": 3
   },
   "file_extension": ".py",
   "mimetype": "text/x-python",
   "name": "python",
   "nbconvert_exporter": "python",
   "pygments_lexer": "ipython3",
   "version": "3.7.6"
  },
  "orig_nbformat": 4,
  "kernelspec": {
   "name": "python3",
   "display_name": "Python 3.7.6 64-bit ('anaconda3-2020.02': pyenv)"
  },
  "interpreter": {
   "hash": "7ee07b5d913ef47b8741d00309252dfbfa27d1282d34176de1abf6b7ba3688b9"
  }
 },
 "nbformat": 4,
 "nbformat_minor": 2,
 "cells": [
  {
   "source": [
    "from Data import parse_G2B\n",
    "from search import tenderOpening\n",
    "import pandas as pd     "
   ],
   "cell_type": "code",
   "metadata": {},
   "execution_count": 1,
   "outputs": []
  },
  {
   "cell_type": "code",
   "execution_count": 2,
   "metadata": {},
   "outputs": [
    {
     "output_type": "stream",
     "name": "stdout",
     "text": [
      "['2020', '11', '14']\n",
      "['2021', '04', '14']\n"
     ]
    }
   ],
   "source": [
    "fromDay = [2020, 6, 14]\n",
    "toDay = [2021, 6, 14]\n",
    "biddingList, workList = parse_G2B(fromDay, toDay)"
   ]
  },
  {
   "cell_type": "code",
   "execution_count": 5,
   "metadata": {},
   "outputs": [
    {
     "output_type": "execute_result",
     "data": {
      "text/plain": [
       "          공고번호-차수 순위    사업자 등록번호        업체명 대표자명     입찰금액(원)  투찰률(%)  추첨 번호  \\\n",
       "5  20200924782-00  1  3728701851    주식회사 호수   이숙  46,293,000  98.908  04 06   \n",
       "6  20200924782-00     2268129063  (주) 공간과풍경  김재덕  41,005,700  87.611  02 01   \n",
       "7  20200924782-00     2248125339    주식회사 송산  김현숙  41,051,490  87.709  14 07   \n",
       "8  20200924782-00     2248140683    주식회사 이원  이복균  41,066,000  87.740  14 12   \n",
       "\n",
       "                  투찰일시        비고  \n",
       "5  2020/09/28 17:22:22            \n",
       "6  2020/09/28 18:55:12  낙찰하한선 미달  \n",
       "7  2020/09/27 13:34:01  낙찰하한선 미달  \n",
       "8  2020/09/28 21:39:37  낙찰하한선 미달  "
      ],
      "text/html": "<div>\n<style scoped>\n    .dataframe tbody tr th:only-of-type {\n        vertical-align: middle;\n    }\n\n    .dataframe tbody tr th {\n        vertical-align: top;\n    }\n\n    .dataframe thead th {\n        text-align: right;\n    }\n</style>\n<table border=\"1\" class=\"dataframe\">\n  <thead>\n    <tr style=\"text-align: right;\">\n      <th></th>\n      <th>공고번호-차수</th>\n      <th>순위</th>\n      <th>사업자 등록번호</th>\n      <th>업체명</th>\n      <th>대표자명</th>\n      <th>입찰금액(원)</th>\n      <th>투찰률(%)</th>\n      <th>추첨 번호</th>\n      <th>투찰일시</th>\n      <th>비고</th>\n    </tr>\n  </thead>\n  <tbody>\n    <tr>\n      <th>5</th>\n      <td>20200924782-00</td>\n      <td>1</td>\n      <td>3728701851</td>\n      <td>주식회사 호수</td>\n      <td>이숙</td>\n      <td>46,293,000</td>\n      <td>98.908</td>\n      <td>04 06</td>\n      <td>2020/09/28 17:22:22</td>\n      <td></td>\n    </tr>\n    <tr>\n      <th>6</th>\n      <td>20200924782-00</td>\n      <td></td>\n      <td>2268129063</td>\n      <td>(주) 공간과풍경</td>\n      <td>김재덕</td>\n      <td>41,005,700</td>\n      <td>87.611</td>\n      <td>02 01</td>\n      <td>2020/09/28 18:55:12</td>\n      <td>낙찰하한선 미달</td>\n    </tr>\n    <tr>\n      <th>7</th>\n      <td>20200924782-00</td>\n      <td></td>\n      <td>2248125339</td>\n      <td>주식회사 송산</td>\n      <td>김현숙</td>\n      <td>41,051,490</td>\n      <td>87.709</td>\n      <td>14 07</td>\n      <td>2020/09/27 13:34:01</td>\n      <td>낙찰하한선 미달</td>\n    </tr>\n    <tr>\n      <th>8</th>\n      <td>20200924782-00</td>\n      <td></td>\n      <td>2248140683</td>\n      <td>주식회사 이원</td>\n      <td>이복균</td>\n      <td>41,066,000</td>\n      <td>87.740</td>\n      <td>14 12</td>\n      <td>2020/09/28 21:39:37</td>\n      <td>낙찰하한선 미달</td>\n    </tr>\n  </tbody>\n</table>\n</div>"
     },
     "metadata": {},
     "execution_count": 5
    }
   ],
   "source": [
    "biddingList[tenderOpening(biddingList, workList['공고번호-차수'][1])]"
   ]
  }
 ]
}