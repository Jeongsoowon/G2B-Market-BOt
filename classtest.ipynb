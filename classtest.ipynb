{
 "metadata": {
  "language_info": {
   "codemirror_mode": {
    "name": "ipython",
    "version": 3
   },
   "file_extension": ".py",
   "mimetype": "text/x-python",
   "name": "python",
   "nbconvert_exporter": "python",
   "pygments_lexer": "ipython3",
   "version": "3.7.6"
  },
  "orig_nbformat": 4,
  "kernelspec": {
   "name": "python3",
   "display_name": "Python 3.7.6 64-bit ('anaconda3-2020.02': pyenv)"
  },
  "interpreter": {
   "hash": "7ee07b5d913ef47b8741d00309252dfbfa27d1282d34176de1abf6b7ba3688b9"
  }
 },
 "nbformat": 4,
 "nbformat_minor": 2,
 "cells": [
  {
   "cell_type": "code",
   "execution_count": 1,
   "metadata": {},
   "outputs": [
    {
     "output_type": "stream",
     "name": "stdout",
     "text": [
      "시작!\n",
      "['2021', '05', '11']\n",
      "Message: no such element: Unable to locate element: {\"method\":\"xpath\",\"selector\":\"//*[@id=\"pagination\"]/a\"}\n",
      "  (Session info: chrome=91.0.4472.114)\n",
      "\n"
     ]
    }
   ],
   "source": [
    "from getData import *\n",
    "from selenium import webdriver\n",
    "\n",
    "hello = getData()\n",
    "\n",
    "print(hello.makeString([2021, 5, 11]))\n",
    "\n",
    "#hello.task_dict\n",
    "kind = '조경식재공사업'\n",
    "#html = hello.makeHTML('공사', '강원', kind, [2021, 5, 11], [2021, 6, 11])\n",
    "myArea = '강원도 원주시'\n",
    "#hello.searchWork(myArea, html)\n",
    "#workListBot(industry, myArea, fromDay, toDay, step):\n",
    "result, resultList = hello.workListBot('공사', '강원', kind, myArea, [2021, 4, 11], [2021, 5, 11], 1)\n",
    "# <div id=\"pagination\"> <strong><span title=\"현재페이지\">1</span></strong>  <a href=\"javascript:to_more(1);\" class=\"default\">+ 더보기</a></div>\n",
    "# 100- 3개\n",
    "#http://www.g2b.go.kr:8101/ep/tbid/tbidList.do?area=42&bidSearchType=1&budgetCompare=UP&fromBidDt=2021%2F05%2F11&industry=%C1%B6%B0%E6%BD%C4%C0%E7%B0%F8%BB%E7%BE%F7&industryCd=0023&maxPageViewNoByWshan=3&radOrgan=1&recordCountPerPage=100&regYn=Y&searchDtType=1&searchType=1&taskClCds=3&toBidDt=2021%2F06%2F11&currentPageNo=1"
   ]
  },
  {
   "cell_type": "code",
   "execution_count": 8,
   "metadata": {},
   "outputs": [
    {
     "output_type": "execute_result",
     "data": {
      "text/plain": [
       "'20210505961'"
      ]
     },
     "metadata": {},
     "execution_count": 8
    }
   ],
   "source": [
    "resultList[0][1][:11]"
   ]
  },
  {
   "cell_type": "code",
   "execution_count": 2,
   "metadata": {},
   "outputs": [],
   "source": [
    "driver = webdriver.Chrome('/Users/waterpurifier/Downloads/chromedriver')\n",
    "bid = hello.bidListBot(driver, resultList)\n",
    "\n",
    "#result.loc[0]['바로가기']\n",
    "#hello.workList"
   ]
  },
  {
   "cell_type": "code",
   "execution_count": 3,
   "metadata": {},
   "outputs": [
    {
     "output_type": "execute_result",
     "data": {
      "text/plain": [
       "   순위    사업자 등록번호          업체명 대표자명         입찰금액     투찰률  추첨 번호  \\\n",
       "0      2938801462  주식회사 천일건설조경  한윤길  170,041,960  87.682  08 12   \n",
       "1      2208882389    파란나라 주식회사  김재숙  152,043,890  86.899  03 08   \n",
       "2      2248133047     주식회사예원개발  이종열  150,642,800  87.222  07 11   \n",
       "3      2248138038      (주)강산조경  김창수   48,227,000  87.055  11 06   \n",
       "4  50  3638600787    주식회사 해움조경  백문희   73,704,174  89.253  01 15   \n",
       "\n",
       "                  투찰일시        비고  \n",
       "0  2021/05/12 09:40:19  낙찰하한선 미달  \n",
       "1  2021/04/22 08:34:31  낙찰하한선 미달  \n",
       "2  2021/04/19 13:20:02  낙찰하한선 미달  \n",
       "3  2021/04/20 13:39:45  낙찰하한선 미달  \n",
       "4  2021/04/19 09:12:16            "
      ],
      "text/html": "<div>\n<style scoped>\n    .dataframe tbody tr th:only-of-type {\n        vertical-align: middle;\n    }\n\n    .dataframe tbody tr th {\n        vertical-align: top;\n    }\n\n    .dataframe thead th {\n        text-align: right;\n    }\n</style>\n<table border=\"1\" class=\"dataframe\">\n  <thead>\n    <tr style=\"text-align: right;\">\n      <th></th>\n      <th>순위</th>\n      <th>사업자 등록번호</th>\n      <th>업체명</th>\n      <th>대표자명</th>\n      <th>입찰금액</th>\n      <th>투찰률</th>\n      <th>추첨 번호</th>\n      <th>투찰일시</th>\n      <th>비고</th>\n    </tr>\n  </thead>\n  <tbody>\n    <tr>\n      <th>0</th>\n      <td></td>\n      <td>2938801462</td>\n      <td>주식회사 천일건설조경</td>\n      <td>한윤길</td>\n      <td>170,041,960</td>\n      <td>87.682</td>\n      <td>08 12</td>\n      <td>2021/05/12 09:40:19</td>\n      <td>낙찰하한선 미달</td>\n    </tr>\n    <tr>\n      <th>1</th>\n      <td></td>\n      <td>2208882389</td>\n      <td>파란나라 주식회사</td>\n      <td>김재숙</td>\n      <td>152,043,890</td>\n      <td>86.899</td>\n      <td>03 08</td>\n      <td>2021/04/22 08:34:31</td>\n      <td>낙찰하한선 미달</td>\n    </tr>\n    <tr>\n      <th>2</th>\n      <td></td>\n      <td>2248133047</td>\n      <td>주식회사예원개발</td>\n      <td>이종열</td>\n      <td>150,642,800</td>\n      <td>87.222</td>\n      <td>07 11</td>\n      <td>2021/04/19 13:20:02</td>\n      <td>낙찰하한선 미달</td>\n    </tr>\n    <tr>\n      <th>3</th>\n      <td></td>\n      <td>2248138038</td>\n      <td>(주)강산조경</td>\n      <td>김창수</td>\n      <td>48,227,000</td>\n      <td>87.055</td>\n      <td>11 06</td>\n      <td>2021/04/20 13:39:45</td>\n      <td>낙찰하한선 미달</td>\n    </tr>\n    <tr>\n      <th>4</th>\n      <td>50</td>\n      <td>3638600787</td>\n      <td>주식회사 해움조경</td>\n      <td>백문희</td>\n      <td>73,704,174</td>\n      <td>89.253</td>\n      <td>01 15</td>\n      <td>2021/04/19 09:12:16</td>\n      <td></td>\n    </tr>\n  </tbody>\n</table>\n</div>"
     },
     "metadata": {},
     "execution_count": 3
    }
   ],
   "source": [
    "bid"
   ]
  },
  {
   "cell_type": "code",
   "execution_count": 6,
   "metadata": {},
   "outputs": [
    {
     "output_type": "error",
     "ename": "AttributeError",
     "evalue": "'getData' object has no attribute 'printWorkList'",
     "traceback": [
      "\u001b[0;31m---------------------------------------------------------------------------\u001b[0m",
      "\u001b[0;31mAttributeError\u001b[0m                            Traceback (most recent call last)",
      "\u001b[0;32m<ipython-input-6-9c5eefb608c1>\u001b[0m in \u001b[0;36m<module>\u001b[0;34m\u001b[0m\n\u001b[1;32m      1\u001b[0m \u001b[0mdriver\u001b[0m \u001b[0;34m=\u001b[0m \u001b[0mwebdriver\u001b[0m\u001b[0;34m.\u001b[0m\u001b[0mChrome\u001b[0m\u001b[0;34m(\u001b[0m\u001b[0;34m'/Users/waterpurifier/Downloads/chromedriver'\u001b[0m\u001b[0;34m)\u001b[0m\u001b[0;34m\u001b[0m\u001b[0;34m\u001b[0m\u001b[0m\n\u001b[0;32m----> 2\u001b[0;31m \u001b[0mhello\u001b[0m\u001b[0;34m.\u001b[0m\u001b[0mprintWorkList\u001b[0m\u001b[0;34m(\u001b[0m\u001b[0mdriver\u001b[0m\u001b[0;34m)\u001b[0m\u001b[0;34m\u001b[0m\u001b[0;34m\u001b[0m\u001b[0m\n\u001b[0m",
      "\u001b[0;31mAttributeError\u001b[0m: 'getData' object has no attribute 'printWorkList'"
     ]
    }
   ],
   "source": [
    "driver = webdriver.Chrome('/Users/waterpurifier/Downloads/chromedriver')\n",
    "hello.printWorkList(driver)"
   ]
  },
  {
   "cell_type": "code",
   "execution_count": 3,
   "metadata": {},
   "outputs": [
    {
     "output_type": "execute_result",
     "data": {
      "text/plain": [
       "[]"
      ]
     },
     "metadata": {},
     "execution_count": 3
    }
   ],
   "source": [
    "hello.workList"
   ]
  },
  {
   "cell_type": "code",
   "execution_count": 2,
   "metadata": {},
   "outputs": [
    {
     "output_type": "execute_result",
     "data": {
      "text/plain": [
       "'http://www.g2b.go.kr:8101/ep/tbid/tbidList.do?searchType=1&bidSearchType=1&taskClCds=3&searchDtType=1&fromBidDt=2021%2F05%2F11&toBidDt=2021%2F06%2F11&radOrgan=1&budgetCompare=UP&regYn=Y&recordCountPerPage=10&area=42&industry=%C1%B6%B0%E6%BD%C4%C0%E7%B0%F8%BB%E7%BE%F7&industryCd=0023'"
      ]
     },
     "metadata": {},
     "execution_count": 2
    }
   ],
   "source": [
    "html\n",
    "# http://www.g2b.go.kr:8101/ep/tbid/tbidList.do?area=42&bidSearchType=1&budgetCompare=UP&fromBidDt=2021%2F05%2F11&industry=%C1%B6%B0%E6%BD%C4%C0%E7%B0%F8%BB%E7%BE%F7&industryCd=0023&maxPageViewNoByWshan=4&radOrgan=1&recordCountPerPage=10&regYn=Y&searchDtType=1&searchType=1&taskClCds=3&toBidDt=2021%2F06%2F11&currentPageNo=2"
   ]
  }
 ]
}