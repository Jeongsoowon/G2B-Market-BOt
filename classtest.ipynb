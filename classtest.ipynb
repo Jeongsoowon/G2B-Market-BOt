{
 "metadata": {
  "language_info": {
   "codemirror_mode": {
    "name": "ipython",
    "version": 3
   },
   "file_extension": ".py",
   "mimetype": "text/x-python",
   "name": "python",
   "nbconvert_exporter": "python",
   "pygments_lexer": "ipython3",
   "version": "3.7.6"
  },
  "orig_nbformat": 4,
  "kernelspec": {
   "name": "python3",
   "display_name": "Python 3.7.6 64-bit ('anaconda3-2020.02': pyenv)"
  },
  "interpreter": {
   "hash": "7ee07b5d913ef47b8741d00309252dfbfa27d1282d34176de1abf6b7ba3688b9"
  }
 },
 "nbformat": 4,
 "nbformat_minor": 2,
 "cells": [
  {
   "cell_type": "code",
   "execution_count": 1,
   "metadata": {},
   "outputs": [
    {
     "output_type": "stream",
     "name": "stdout",
     "text": [
      "시작!\n",
      "['2021', '05', '11']\n",
      "Message: no such element: Unable to locate element: {\"method\":\"xpath\",\"selector\":\"//*[@id=\"pagination\"]/a\"}\n",
      "  (Session info: chrome=91.0.4472.114)\n",
      "\n"
     ]
    }
   ],
   "source": [
    "from getData import *\n",
    "from selenium import webdriver\n",
    "\n",
    "hello = getData()\n",
    "\n",
    "print(hello.makeString([2021, 5, 11]))\n",
    "\n",
    "#hello.task_dict\n",
    "kind = '조경식재공사업'\n",
    "#html = hello.makeHTML('공사', '강원', kind, [2021, 5, 11], [2021, 6, 11])\n",
    "myArea = '강원도 원주시'\n",
    "#hello.searchWork(myArea, html)\n",
    "#workListBot(industry, myArea, fromDay, toDay, step):\n",
    "result, resultList = hello.workListBot('공사', '강원', kind, myArea, [2021, 4, 11], [2021, 5, 11], 1)\n",
    "# <div id=\"pagination\"> <strong><span title=\"현재페이지\">1</span></strong>  <a href=\"javascript:to_more(1);\" class=\"default\">+ 더보기</a></div>\n",
    "# 100- 3개\n",
    "#http://www.g2b.go.kr:8101/ep/tbid/tbidList.do?area=42&bidSearchType=1&budgetCompare=UP&fromBidDt=2021%2F05%2F11&industry=%C1%B6%B0%E6%BD%C4%C0%E7%B0%F8%BB%E7%BE%F7&industryCd=0023&maxPageViewNoByWshan=3&radOrgan=1&recordCountPerPage=100&regYn=Y&searchDtType=1&searchType=1&taskClCds=3&toBidDt=2021%2F06%2F11&currentPageNo=1"
   ]
  },
  {
   "cell_type": "code",
   "execution_count": 8,
   "metadata": {},
   "outputs": [
    {
     "output_type": "execute_result",
     "data": {
      "text/plain": [
       "'20210505961'"
      ]
     },
     "metadata": {},
     "execution_count": 8
    }
   ],
   "source": [
    "resultList[0][1][:11]"
   ]
  },
  {
   "cell_type": "code",
   "execution_count": 2,
   "metadata": {},
   "outputs": [
    {
     "output_type": "stream",
     "name": "stdout",
     "text": [
      "javascript:toDetail('3', '20210505961', '00', '0', '0', '개찰완료');\n",
      "javascript:toDetail('3', '20210505961', '00', '0', '0', '개찰완료');\n",
      "javascript:toDetail('3', '20210426394', '00', '0', '0', '개찰완료');\n"
     ]
    }
   ],
   "source": [
    "driver = webdriver.Chrome('/Users/waterpurifier/Downloads/chromedriver')\n",
    "bid = hello.bidListBot(driver, resultList)\n",
    "\n",
    "#result.loc[0]['바로가기']\n",
    "#hello.workList"
   ]
  },
  {
   "cell_type": "code",
   "execution_count": 6,
   "metadata": {},
   "outputs": [
    {
     "output_type": "error",
     "ename": "AttributeError",
     "evalue": "'getData' object has no attribute 'printWorkList'",
     "traceback": [
      "\u001b[0;31m---------------------------------------------------------------------------\u001b[0m",
      "\u001b[0;31mAttributeError\u001b[0m                            Traceback (most recent call last)",
      "\u001b[0;32m<ipython-input-6-9c5eefb608c1>\u001b[0m in \u001b[0;36m<module>\u001b[0;34m\u001b[0m\n\u001b[1;32m      1\u001b[0m \u001b[0mdriver\u001b[0m \u001b[0;34m=\u001b[0m \u001b[0mwebdriver\u001b[0m\u001b[0;34m.\u001b[0m\u001b[0mChrome\u001b[0m\u001b[0;34m(\u001b[0m\u001b[0;34m'/Users/waterpurifier/Downloads/chromedriver'\u001b[0m\u001b[0;34m)\u001b[0m\u001b[0;34m\u001b[0m\u001b[0;34m\u001b[0m\u001b[0m\n\u001b[0;32m----> 2\u001b[0;31m \u001b[0mhello\u001b[0m\u001b[0;34m.\u001b[0m\u001b[0mprintWorkList\u001b[0m\u001b[0;34m(\u001b[0m\u001b[0mdriver\u001b[0m\u001b[0;34m)\u001b[0m\u001b[0;34m\u001b[0m\u001b[0;34m\u001b[0m\u001b[0m\n\u001b[0m",
      "\u001b[0;31mAttributeError\u001b[0m: 'getData' object has no attribute 'printWorkList'"
     ]
    }
   ],
   "source": [
    "driver = webdriver.Chrome('/Users/waterpurifier/Downloads/chromedriver')\n",
    "hello.printWorkList(driver)"
   ]
  },
  {
   "cell_type": "code",
   "execution_count": 3,
   "metadata": {},
   "outputs": [
    {
     "output_type": "execute_result",
     "data": {
      "text/plain": [
       "[]"
      ]
     },
     "metadata": {},
     "execution_count": 3
    }
   ],
   "source": [
    "hello.workList"
   ]
  },
  {
   "cell_type": "code",
   "execution_count": 2,
   "metadata": {},
   "outputs": [
    {
     "output_type": "execute_result",
     "data": {
      "text/plain": [
       "'http://www.g2b.go.kr:8101/ep/tbid/tbidList.do?searchType=1&bidSearchType=1&taskClCds=3&searchDtType=1&fromBidDt=2021%2F05%2F11&toBidDt=2021%2F06%2F11&radOrgan=1&budgetCompare=UP&regYn=Y&recordCountPerPage=10&area=42&industry=%C1%B6%B0%E6%BD%C4%C0%E7%B0%F8%BB%E7%BE%F7&industryCd=0023'"
      ]
     },
     "metadata": {},
     "execution_count": 2
    }
   ],
   "source": [
    "html\n",
    "# http://www.g2b.go.kr:8101/ep/tbid/tbidList.do?area=42&bidSearchType=1&budgetCompare=UP&fromBidDt=2021%2F05%2F11&industry=%C1%B6%B0%E6%BD%C4%C0%E7%B0%F8%BB%E7%BE%F7&industryCd=0023&maxPageViewNoByWshan=4&radOrgan=1&recordCountPerPage=10&regYn=Y&searchDtType=1&searchType=1&taskClCds=3&toBidDt=2021%2F06%2F11&currentPageNo=2"
   ]
  }
 ]
}