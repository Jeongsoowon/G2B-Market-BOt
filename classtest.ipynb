{
 "metadata": {
  "language_info": {
   "codemirror_mode": {
    "name": "ipython",
    "version": 3
   },
   "file_extension": ".py",
   "mimetype": "text/x-python",
   "name": "python",
   "nbconvert_exporter": "python",
   "pygments_lexer": "ipython3",
   "version": "3.7.6"
  },
  "orig_nbformat": 4,
  "kernelspec": {
   "name": "python3",
   "display_name": "Python 3.7.6 64-bit ('anaconda3-2020.02': pyenv)"
  },
  "interpreter": {
   "hash": "7ee07b5d913ef47b8741d00309252dfbfa27d1282d34176de1abf6b7ba3688b9"
  }
 },
 "nbformat": 4,
 "nbformat_minor": 2,
 "cells": [
  {
   "cell_type": "code",
   "execution_count": 1,
   "metadata": {},
   "outputs": [
    {
     "output_type": "stream",
     "name": "stdout",
     "text": [
      "시작!\n",
      "['2021', '05', '11']\n",
      "Message: no such element: Unable to locate element: {\"method\":\"xpath\",\"selector\":\"//*[@id=\"pagination\"]/a\"}\n",
      "  (Session info: chrome=91.0.4472.114)\n",
      "\n"
     ]
    },
    {
     "output_type": "execute_result",
     "data": {
      "text/plain": [
       "[['공사',\n",
       "  '20210529472-00',\n",
       "  'http://www.g2b.go.kr:8081/ep/invitation/publish/bidInfoDtl.do?bidno=20210529472&bidseq=00&releaseYn=Y&taskClCd=3',\n",
       "  '일반',\n",
       "  '2021년 공원녹지 유지관리사업(18구간)',\n",
       "  'http://www.g2b.go.kr:8081/ep/invitation/publish/bidInfoDtl.do?bidno=20210529472&bidseq=00&releaseYn=Y&taskClCd=3',\n",
       "  '강원도 원주시',\n",
       "  '강원도 원주시',\n",
       "  '수의(소액)',\n",
       "  '2021/05/24 18:22\\n(2021/05/28 10:00)',\n",
       "  '',\n",
       "  '마감'],\n",
       " ['공사',\n",
       "  '20210529458-00',\n",
       "  'http://www.g2b.go.kr:8081/ep/invitation/publish/bidInfoDtl.do?bidno=20210529458&bidseq=00&releaseYn=Y&taskClCd=3',\n",
       "  '일반',\n",
       "  '2021년 공원녹지 유지관리사업(17구간)',\n",
       "  'http://www.g2b.go.kr:8081/ep/invitation/publish/bidInfoDtl.do?bidno=20210529458&bidseq=00&releaseYn=Y&taskClCd=3',\n",
       "  '강원도 원주시',\n",
       "  '강원도 원주시',\n",
       "  '수의(소액)',\n",
       "  '2021/05/24 18:16\\n(2021/05/28 10:00)',\n",
       "  '',\n",
       "  '마감'],\n",
       " ['공사',\n",
       "  '20210522866-00',\n",
       "  'http://www.g2b.go.kr:8081/ep/invitation/publish/bidInfoDtl.do?bidno=20210522866&bidseq=00&releaseYn=Y&taskClCd=3',\n",
       "  '일반',\n",
       "  '봉산어린이공원 리모델링 사업',\n",
       "  'http://www.g2b.go.kr:8081/ep/invitation/publish/bidInfoDtl.do?bidno=20210522866&bidseq=00&releaseYn=Y&taskClCd=3',\n",
       "  '강원도 원주시',\n",
       "  '강원도 원주시',\n",
       "  '수의(소액)',\n",
       "  '2021/05/18 17:23\\n(2021/05/25 10:00)',\n",
       "  '',\n",
       "  '마감']]"
      ]
     },
     "metadata": {},
     "execution_count": 1
    }
   ],
   "source": [
    "from getData import *\n",
    "hello = getData()\n",
    "\n",
    "print(hello.makeString([2021, 5, 11]))\n",
    "\n",
    "#hello.task_dict\n",
    "kind = '조경식재공사업'\n",
    "html = hello.makeHTML('공사', '강원', kind, [2021, 5, 11], [2021, 6, 11])\n",
    "myArea = '강원도 원주시'\n",
    "hello.searchWork(myArea, html)\n",
    "# <div id=\"pagination\"> <strong><span title=\"현재페이지\">1</span></strong>  <a href=\"javascript:to_more(1);\" class=\"default\">+ 더보기</a></div>\n",
    "# 100- 3개\n",
    "#http://www.g2b.go.kr:8101/ep/tbid/tbidList.do?area=42&bidSearchType=1&budgetCompare=UP&fromBidDt=2021%2F05%2F11&industry=%C1%B6%B0%E6%BD%C4%C0%E7%B0%F8%BB%E7%BE%F7&industryCd=0023&maxPageViewNoByWshan=3&radOrgan=1&recordCountPerPage=100&regYn=Y&searchDtType=1&searchType=1&taskClCds=3&toBidDt=2021%2F06%2F11&currentPageNo=1"
   ]
  },
  {
   "cell_type": "code",
   "execution_count": 2,
   "metadata": {},
   "outputs": [
    {
     "output_type": "execute_result",
     "data": {
      "text/plain": [
       "'http://www.g2b.go.kr:8101/ep/tbid/tbidList.do?searchType=1&bidSearchType=1&taskClCds=3&searchDtType=1&fromBidDt=2021%2F05%2F11&toBidDt=2021%2F06%2F11&radOrgan=1&budgetCompare=UP&regYn=Y&recordCountPerPage=10&area=42&industry=%C1%B6%B0%E6%BD%C4%C0%E7%B0%F8%BB%E7%BE%F7&industryCd=0023'"
      ]
     },
     "metadata": {},
     "execution_count": 2
    }
   ],
   "source": [
    "html\n",
    "# http://www.g2b.go.kr:8101/ep/tbid/tbidList.do?area=42&bidSearchType=1&budgetCompare=UP&fromBidDt=2021%2F05%2F11&industry=%C1%B6%B0%E6%BD%C4%C0%E7%B0%F8%BB%E7%BE%F7&industryCd=0023&maxPageViewNoByWshan=4&radOrgan=1&recordCountPerPage=10&regYn=Y&searchDtType=1&searchType=1&taskClCds=3&toBidDt=2021%2F06%2F11&currentPageNo=2"
   ]
  }
 ]
}